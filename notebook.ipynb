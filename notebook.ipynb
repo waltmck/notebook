{
 "cells": [
  {
   "cell_type": "code",
<<<<<<< HEAD
   "execution_count": 2,
=======
   "execution_count": 7,
>>>>>>> d3355aca (get_probabilities for unbalanced distributions)
   "metadata": {},
   "outputs": [
    {
     "name": "stdout",
     "output_type": "stream",
     "text": [
<<<<<<< HEAD
      "/Applications/MATLAB_R2022a.app/bin/maci64\n",
=======
>>>>>>> d3355aca (get_probabilities for unbalanced distributions)
      "Requirement already satisfied: pip in ./env/lib/python3.9/site-packages (23.1.2)\n",
      "Requirement already satisfied: gurobipy in ./env/lib/python3.9/site-packages (10.0.2)\n",
      "Requirement already satisfied: cvxpy in ./env/lib/python3.9/site-packages (1.3.2)\n",
      "Requirement already satisfied: osqp>=0.4.1 in ./env/lib/python3.9/site-packages (from cvxpy) (0.6.3)\n",
      "Requirement already satisfied: ecos>=2 in ./env/lib/python3.9/site-packages (from cvxpy) (2.0.12)\n",
      "Requirement already satisfied: scs>=1.1.6 in ./env/lib/python3.9/site-packages (from cvxpy) (3.2.3)\n",
      "Requirement already satisfied: numpy>=1.15 in ./env/lib/python3.9/site-packages (from cvxpy) (1.25.0)\n",
      "Requirement already satisfied: scipy>=1.1.0 in ./env/lib/python3.9/site-packages (from cvxpy) (1.11.1)\n",
      "Requirement already satisfied: setuptools>65.5.1 in ./env/lib/python3.9/site-packages (from cvxpy) (65.6.3)\n",
      "Requirement already satisfied: qdldl in ./env/lib/python3.9/site-packages (from osqp>=0.4.1->cvxpy) (0.1.7.post0)\n",
      "Requirement already satisfied: numpy in ./env/lib/python3.9/site-packages (1.25.0)\n",
      "Requirement already satisfied: jupyter-matlab-proxy in ./env/lib/python3.9/site-packages (0.6.0)\n",
      "Requirement already satisfied: jupyter-contrib-nbextensions in ./env/lib/python3.9/site-packages (from jupyter-matlab-proxy) (0.7.0)\n",
      "Requirement already satisfied: jupyter-server-proxy in ./env/lib/python3.9/site-packages (from jupyter-matlab-proxy) (4.0.0)\n",
      "Requirement already satisfied: matlab-proxy>=0.6.0 in ./env/lib/python3.9/site-packages (from jupyter-matlab-proxy) (0.7.0)\n",
      "Requirement already satisfied: psutil in ./env/lib/python3.9/site-packages (from jupyter-matlab-proxy) (5.9.5)\n",
      "Requirement already satisfied: requests in ./env/lib/python3.9/site-packages (from jupyter-matlab-proxy) (2.31.0)\n",
      "Requirement already satisfied: simpervisor>=1.0.0 in ./env/lib/python3.9/site-packages (from jupyter-matlab-proxy) (1.0.0)\n",
      "Requirement already satisfied: aiohttp>=3.7.4 in ./env/lib/python3.9/site-packages (from matlab-proxy>=0.6.0->jupyter-matlab-proxy) (3.8.4)\n",
      "Requirement already satisfied: aiohttp-session[secure] in ./env/lib/python3.9/site-packages (from matlab-proxy>=0.6.0->jupyter-matlab-proxy) (2.12.0)\n",
      "Requirement already satisfied: ipython-genutils in ./env/lib/python3.9/site-packages (from jupyter-contrib-nbextensions->jupyter-matlab-proxy) (0.2.0)\n",
      "Requirement already satisfied: jupyter-contrib-core>=0.3.3 in ./env/lib/python3.9/site-packages (from jupyter-contrib-nbextensions->jupyter-matlab-proxy) (0.4.2)\n",
      "Requirement already satisfied: jupyter-core in ./env/lib/python3.9/site-packages (from jupyter-contrib-nbextensions->jupyter-matlab-proxy) (5.3.1)\n",
      "Requirement already satisfied: jupyter-highlight-selected-word>=0.1.1 in ./env/lib/python3.9/site-packages (from jupyter-contrib-nbextensions->jupyter-matlab-proxy) (0.2.0)\n",
      "Requirement already satisfied: jupyter-nbextensions-configurator>=0.4.0 in ./env/lib/python3.9/site-packages (from jupyter-contrib-nbextensions->jupyter-matlab-proxy) (0.6.3)\n",
      "Requirement already satisfied: nbconvert>=6.0 in ./env/lib/python3.9/site-packages (from jupyter-contrib-nbextensions->jupyter-matlab-proxy) (7.6.0)\n",
      "Requirement already satisfied: notebook>=6.0 in ./env/lib/python3.9/site-packages (from jupyter-contrib-nbextensions->jupyter-matlab-proxy) (6.5.4)\n",
      "Requirement already satisfied: tornado in ./env/lib/python3.9/site-packages (from jupyter-contrib-nbextensions->jupyter-matlab-proxy) (6.3.2)\n",
      "Requirement already satisfied: traitlets>=4.1 in ./env/lib/python3.9/site-packages (from jupyter-contrib-nbextensions->jupyter-matlab-proxy) (5.9.0)\n",
      "Requirement already satisfied: lxml in ./env/lib/python3.9/site-packages (from jupyter-contrib-nbextensions->jupyter-matlab-proxy) (4.9.3)\n",
      "Requirement already satisfied: importlib-metadata>=4.8.3 in ./env/lib/python3.9/site-packages (from jupyter-server-proxy->jupyter-matlab-proxy) (6.8.0)\n",
      "Requirement already satisfied: jupyter-server>=1.0 in ./env/lib/python3.9/site-packages (from jupyter-server-proxy->jupyter-matlab-proxy) (2.7.0)\n",
      "Requirement already satisfied: charset-normalizer<4,>=2 in ./env/lib/python3.9/site-packages (from requests->jupyter-matlab-proxy) (3.2.0)\n",
      "Requirement already satisfied: idna<4,>=2.5 in ./env/lib/python3.9/site-packages (from requests->jupyter-matlab-proxy) (3.4)\n",
      "Requirement already satisfied: urllib3<3,>=1.21.1 in ./env/lib/python3.9/site-packages (from requests->jupyter-matlab-proxy) (2.0.3)\n",
      "Requirement already satisfied: certifi>=2017.4.17 in ./env/lib/python3.9/site-packages (from requests->jupyter-matlab-proxy) (2023.5.7)\n",
      "Requirement already satisfied: attrs>=17.3.0 in ./env/lib/python3.9/site-packages (from aiohttp>=3.7.4->matlab-proxy>=0.6.0->jupyter-matlab-proxy) (23.1.0)\n",
      "Requirement already satisfied: multidict<7.0,>=4.5 in ./env/lib/python3.9/site-packages (from aiohttp>=3.7.4->matlab-proxy>=0.6.0->jupyter-matlab-proxy) (6.0.4)\n",
      "Requirement already satisfied: async-timeout<5.0,>=4.0.0a3 in ./env/lib/python3.9/site-packages (from aiohttp>=3.7.4->matlab-proxy>=0.6.0->jupyter-matlab-proxy) (4.0.2)\n",
      "Requirement already satisfied: yarl<2.0,>=1.0 in ./env/lib/python3.9/site-packages (from aiohttp>=3.7.4->matlab-proxy>=0.6.0->jupyter-matlab-proxy) (1.9.2)\n",
      "Requirement already satisfied: frozenlist>=1.1.1 in ./env/lib/python3.9/site-packages (from aiohttp>=3.7.4->matlab-proxy>=0.6.0->jupyter-matlab-proxy) (1.3.3)\n",
      "Requirement already satisfied: aiosignal>=1.1.2 in ./env/lib/python3.9/site-packages (from aiohttp>=3.7.4->matlab-proxy>=0.6.0->jupyter-matlab-proxy) (1.3.1)\n",
      "Requirement already satisfied: zipp>=0.5 in ./env/lib/python3.9/site-packages (from importlib-metadata>=4.8.3->jupyter-server-proxy->jupyter-matlab-proxy) (3.15.0)\n",
      "Requirement already satisfied: setuptools in ./env/lib/python3.9/site-packages (from jupyter-contrib-core>=0.3.3->jupyter-contrib-nbextensions->jupyter-matlab-proxy) (65.6.3)\n",
      "Requirement already satisfied: pyyaml in ./env/lib/python3.9/site-packages (from jupyter-nbextensions-configurator>=0.4.0->jupyter-contrib-nbextensions->jupyter-matlab-proxy) (6.0)\n",
      "Requirement already satisfied: anyio>=3.1.0 in ./env/lib/python3.9/site-packages (from jupyter-server>=1.0->jupyter-server-proxy->jupyter-matlab-proxy) (3.7.1)\n",
      "Requirement already satisfied: argon2-cffi in ./env/lib/python3.9/site-packages (from jupyter-server>=1.0->jupyter-server-proxy->jupyter-matlab-proxy) (21.3.0)\n",
      "Requirement already satisfied: jinja2 in ./env/lib/python3.9/site-packages (from jupyter-server>=1.0->jupyter-server-proxy->jupyter-matlab-proxy) (3.1.2)\n",
      "Requirement already satisfied: jupyter-client>=7.4.4 in ./env/lib/python3.9/site-packages (from jupyter-server>=1.0->jupyter-server-proxy->jupyter-matlab-proxy) (8.3.0)\n",
      "Requirement already satisfied: jupyter-events>=0.6.0 in ./env/lib/python3.9/site-packages (from jupyter-server>=1.0->jupyter-server-proxy->jupyter-matlab-proxy) (0.6.3)\n",
      "Requirement already satisfied: jupyter-server-terminals in ./env/lib/python3.9/site-packages (from jupyter-server>=1.0->jupyter-server-proxy->jupyter-matlab-proxy) (0.4.4)\n",
      "Requirement already satisfied: nbformat>=5.3.0 in ./env/lib/python3.9/site-packages (from jupyter-server>=1.0->jupyter-server-proxy->jupyter-matlab-proxy) (5.9.0)\n",
      "Requirement already satisfied: overrides in ./env/lib/python3.9/site-packages (from jupyter-server>=1.0->jupyter-server-proxy->jupyter-matlab-proxy) (7.3.1)\n",
      "Requirement already satisfied: packaging in ./env/lib/python3.9/site-packages (from jupyter-server>=1.0->jupyter-server-proxy->jupyter-matlab-proxy) (23.1)\n",
      "Requirement already satisfied: prometheus-client in ./env/lib/python3.9/site-packages (from jupyter-server>=1.0->jupyter-server-proxy->jupyter-matlab-proxy) (0.17.0)\n",
      "Requirement already satisfied: pyzmq>=24 in ./env/lib/python3.9/site-packages (from jupyter-server>=1.0->jupyter-server-proxy->jupyter-matlab-proxy) (25.1.0)\n",
      "Requirement already satisfied: send2trash in ./env/lib/python3.9/site-packages (from jupyter-server>=1.0->jupyter-server-proxy->jupyter-matlab-proxy) (1.8.2)\n",
      "Requirement already satisfied: terminado>=0.8.3 in ./env/lib/python3.9/site-packages (from jupyter-server>=1.0->jupyter-server-proxy->jupyter-matlab-proxy) (0.17.1)\n",
      "Requirement already satisfied: websocket-client in ./env/lib/python3.9/site-packages (from jupyter-server>=1.0->jupyter-server-proxy->jupyter-matlab-proxy) (1.6.1)\n",
      "Requirement already satisfied: platformdirs>=2.5 in ./env/lib/python3.9/site-packages (from jupyter-core->jupyter-contrib-nbextensions->jupyter-matlab-proxy) (3.8.1)\n",
      "Requirement already satisfied: beautifulsoup4 in ./env/lib/python3.9/site-packages (from nbconvert>=6.0->jupyter-contrib-nbextensions->jupyter-matlab-proxy) (4.12.2)\n",
      "Requirement already satisfied: bleach!=5.0.0 in ./env/lib/python3.9/site-packages (from nbconvert>=6.0->jupyter-contrib-nbextensions->jupyter-matlab-proxy) (6.0.0)\n",
      "Requirement already satisfied: defusedxml in ./env/lib/python3.9/site-packages (from nbconvert>=6.0->jupyter-contrib-nbextensions->jupyter-matlab-proxy) (0.7.1)\n",
      "Requirement already satisfied: jupyterlab-pygments in ./env/lib/python3.9/site-packages (from nbconvert>=6.0->jupyter-contrib-nbextensions->jupyter-matlab-proxy) (0.2.2)\n",
      "Requirement already satisfied: markupsafe>=2.0 in ./env/lib/python3.9/site-packages (from nbconvert>=6.0->jupyter-contrib-nbextensions->jupyter-matlab-proxy) (2.1.3)\n",
      "Requirement already satisfied: mistune<4,>=2.0.3 in ./env/lib/python3.9/site-packages (from nbconvert>=6.0->jupyter-contrib-nbextensions->jupyter-matlab-proxy) (3.0.1)\n",
      "Requirement already satisfied: nbclient>=0.5.0 in ./env/lib/python3.9/site-packages (from nbconvert>=6.0->jupyter-contrib-nbextensions->jupyter-matlab-proxy) (0.8.0)\n",
      "Requirement already satisfied: pandocfilters>=1.4.1 in ./env/lib/python3.9/site-packages (from nbconvert>=6.0->jupyter-contrib-nbextensions->jupyter-matlab-proxy) (1.5.0)\n",
      "Requirement already satisfied: pygments>=2.4.1 in ./env/lib/python3.9/site-packages (from nbconvert>=6.0->jupyter-contrib-nbextensions->jupyter-matlab-proxy) (2.15.1)\n",
      "Requirement already satisfied: tinycss2 in ./env/lib/python3.9/site-packages (from nbconvert>=6.0->jupyter-contrib-nbextensions->jupyter-matlab-proxy) (1.2.1)\n",
      "Requirement already satisfied: nest-asyncio>=1.5 in ./env/lib/python3.9/site-packages (from notebook>=6.0->jupyter-contrib-nbextensions->jupyter-matlab-proxy) (1.5.6)\n",
      "Requirement already satisfied: ipykernel in ./env/lib/python3.9/site-packages (from notebook>=6.0->jupyter-contrib-nbextensions->jupyter-matlab-proxy) (6.24.0)\n",
      "Requirement already satisfied: nbclassic>=0.4.7 in ./env/lib/python3.9/site-packages (from notebook>=6.0->jupyter-contrib-nbextensions->jupyter-matlab-proxy) (1.0.0)\n",
      "Requirement already satisfied: cryptography in ./env/lib/python3.9/site-packages (from aiohttp-session[secure]->matlab-proxy>=0.6.0->jupyter-matlab-proxy) (41.0.1)\n",
      "Requirement already satisfied: sniffio>=1.1 in ./env/lib/python3.9/site-packages (from anyio>=3.1.0->jupyter-server>=1.0->jupyter-server-proxy->jupyter-matlab-proxy) (1.3.0)\n",
      "Requirement already satisfied: exceptiongroup in ./env/lib/python3.9/site-packages (from anyio>=3.1.0->jupyter-server>=1.0->jupyter-server-proxy->jupyter-matlab-proxy) (1.1.2)\n",
      "Requirement already satisfied: six>=1.9.0 in ./env/lib/python3.9/site-packages (from bleach!=5.0.0->nbconvert>=6.0->jupyter-contrib-nbextensions->jupyter-matlab-proxy) (1.16.0)\n",
      "Requirement already satisfied: webencodings in ./env/lib/python3.9/site-packages (from bleach!=5.0.0->nbconvert>=6.0->jupyter-contrib-nbextensions->jupyter-matlab-proxy) (0.5.1)\n",
      "Requirement already satisfied: python-dateutil>=2.8.2 in ./env/lib/python3.9/site-packages (from jupyter-client>=7.4.4->jupyter-server>=1.0->jupyter-server-proxy->jupyter-matlab-proxy) (2.8.2)\n",
      "Requirement already satisfied: jsonschema[format-nongpl]>=3.2.0 in ./env/lib/python3.9/site-packages (from jupyter-events>=0.6.0->jupyter-server>=1.0->jupyter-server-proxy->jupyter-matlab-proxy) (4.18.0)\n",
      "Requirement already satisfied: python-json-logger>=2.0.4 in ./env/lib/python3.9/site-packages (from jupyter-events>=0.6.0->jupyter-server>=1.0->jupyter-server-proxy->jupyter-matlab-proxy) (2.0.7)\n",
      "Requirement already satisfied: rfc3339-validator in ./env/lib/python3.9/site-packages (from jupyter-events>=0.6.0->jupyter-server>=1.0->jupyter-server-proxy->jupyter-matlab-proxy) (0.1.4)\n",
      "Requirement already satisfied: rfc3986-validator>=0.1.1 in ./env/lib/python3.9/site-packages (from jupyter-events>=0.6.0->jupyter-server>=1.0->jupyter-server-proxy->jupyter-matlab-proxy) (0.1.1)\n",
      "Requirement already satisfied: notebook-shim>=0.2.3 in ./env/lib/python3.9/site-packages (from nbclassic>=0.4.7->notebook>=6.0->jupyter-contrib-nbextensions->jupyter-matlab-proxy) (0.2.3)\n",
      "Requirement already satisfied: fastjsonschema in ./env/lib/python3.9/site-packages (from nbformat>=5.3.0->jupyter-server>=1.0->jupyter-server-proxy->jupyter-matlab-proxy) (2.17.1)\n",
      "Requirement already satisfied: ptyprocess in ./env/lib/python3.9/site-packages (from terminado>=0.8.3->jupyter-server>=1.0->jupyter-server-proxy->jupyter-matlab-proxy) (0.7.0)\n",
      "Requirement already satisfied: argon2-cffi-bindings in ./env/lib/python3.9/site-packages (from argon2-cffi->jupyter-server>=1.0->jupyter-server-proxy->jupyter-matlab-proxy) (21.2.0)\n",
      "Requirement already satisfied: soupsieve>1.2 in ./env/lib/python3.9/site-packages (from beautifulsoup4->nbconvert>=6.0->jupyter-contrib-nbextensions->jupyter-matlab-proxy) (2.4.1)\n",
      "Requirement already satisfied: cffi>=1.12 in ./env/lib/python3.9/site-packages (from cryptography->aiohttp-session[secure]->matlab-proxy>=0.6.0->jupyter-matlab-proxy) (1.15.1)\n",
      "Requirement already satisfied: appnope in ./env/lib/python3.9/site-packages (from ipykernel->notebook>=6.0->jupyter-contrib-nbextensions->jupyter-matlab-proxy) (0.1.3)\n",
      "Requirement already satisfied: comm>=0.1.1 in ./env/lib/python3.9/site-packages (from ipykernel->notebook>=6.0->jupyter-contrib-nbextensions->jupyter-matlab-proxy) (0.1.3)\n",
      "Requirement already satisfied: debugpy>=1.6.5 in ./env/lib/python3.9/site-packages (from ipykernel->notebook>=6.0->jupyter-contrib-nbextensions->jupyter-matlab-proxy) (1.6.7)\n",
      "Requirement already satisfied: ipython>=7.23.1 in ./env/lib/python3.9/site-packages (from ipykernel->notebook>=6.0->jupyter-contrib-nbextensions->jupyter-matlab-proxy) (8.14.0)\n",
      "Requirement already satisfied: matplotlib-inline>=0.1 in ./env/lib/python3.9/site-packages (from ipykernel->notebook>=6.0->jupyter-contrib-nbextensions->jupyter-matlab-proxy) (0.1.6)\n",
      "Requirement already satisfied: pycparser in ./env/lib/python3.9/site-packages (from cffi>=1.12->cryptography->aiohttp-session[secure]->matlab-proxy>=0.6.0->jupyter-matlab-proxy) (2.21)\n",
      "Requirement already satisfied: backcall in ./env/lib/python3.9/site-packages (from ipython>=7.23.1->ipykernel->notebook>=6.0->jupyter-contrib-nbextensions->jupyter-matlab-proxy) (0.2.0)\n",
      "Requirement already satisfied: decorator in ./env/lib/python3.9/site-packages (from ipython>=7.23.1->ipykernel->notebook>=6.0->jupyter-contrib-nbextensions->jupyter-matlab-proxy) (5.1.1)\n",
      "Requirement already satisfied: jedi>=0.16 in ./env/lib/python3.9/site-packages (from ipython>=7.23.1->ipykernel->notebook>=6.0->jupyter-contrib-nbextensions->jupyter-matlab-proxy) (0.18.2)\n",
      "Requirement already satisfied: pickleshare in ./env/lib/python3.9/site-packages (from ipython>=7.23.1->ipykernel->notebook>=6.0->jupyter-contrib-nbextensions->jupyter-matlab-proxy) (0.7.5)\n",
      "Requirement already satisfied: prompt-toolkit!=3.0.37,<3.1.0,>=3.0.30 in ./env/lib/python3.9/site-packages (from ipython>=7.23.1->ipykernel->notebook>=6.0->jupyter-contrib-nbextensions->jupyter-matlab-proxy) (3.0.39)\n",
      "Requirement already satisfied: stack-data in ./env/lib/python3.9/site-packages (from ipython>=7.23.1->ipykernel->notebook>=6.0->jupyter-contrib-nbextensions->jupyter-matlab-proxy) (0.6.2)\n",
      "Requirement already satisfied: typing-extensions in ./env/lib/python3.9/site-packages (from ipython>=7.23.1->ipykernel->notebook>=6.0->jupyter-contrib-nbextensions->jupyter-matlab-proxy) (4.7.1)\n",
      "Requirement already satisfied: pexpect>4.3 in ./env/lib/python3.9/site-packages (from ipython>=7.23.1->ipykernel->notebook>=6.0->jupyter-contrib-nbextensions->jupyter-matlab-proxy) (4.8.0)\n",
      "Requirement already satisfied: jsonschema-specifications>=2023.03.6 in ./env/lib/python3.9/site-packages (from jsonschema[format-nongpl]>=3.2.0->jupyter-events>=0.6.0->jupyter-server>=1.0->jupyter-server-proxy->jupyter-matlab-proxy) (2023.6.1)\n",
      "Requirement already satisfied: referencing>=0.28.4 in ./env/lib/python3.9/site-packages (from jsonschema[format-nongpl]>=3.2.0->jupyter-events>=0.6.0->jupyter-server>=1.0->jupyter-server-proxy->jupyter-matlab-proxy) (0.29.1)\n",
<<<<<<< HEAD
      "Requirement already satisfied: rpds-py>=0.7.1 in ./env/lib/python3.9/site-packages (from jsonschema[format-nongpl]>=3.2.0->jupyter-events>=0.6.0->jupyter-server>=1.0->jupyter-server-proxy->jupyter-matlab-proxy) (0.8.10)\n",
=======
      "Requirement already satisfied: rpds-py>=0.7.1 in ./env/lib/python3.9/site-packages (from jsonschema[format-nongpl]>=3.2.0->jupyter-events>=0.6.0->jupyter-server>=1.0->jupyter-server-proxy->jupyter-matlab-proxy) (0.8.8)\n",
>>>>>>> d3355aca (get_probabilities for unbalanced distributions)
      "Requirement already satisfied: fqdn in ./env/lib/python3.9/site-packages (from jsonschema[format-nongpl]>=3.2.0->jupyter-events>=0.6.0->jupyter-server>=1.0->jupyter-server-proxy->jupyter-matlab-proxy) (1.5.1)\n",
      "Requirement already satisfied: isoduration in ./env/lib/python3.9/site-packages (from jsonschema[format-nongpl]>=3.2.0->jupyter-events>=0.6.0->jupyter-server>=1.0->jupyter-server-proxy->jupyter-matlab-proxy) (20.11.0)\n",
      "Requirement already satisfied: jsonpointer>1.13 in ./env/lib/python3.9/site-packages (from jsonschema[format-nongpl]>=3.2.0->jupyter-events>=0.6.0->jupyter-server>=1.0->jupyter-server-proxy->jupyter-matlab-proxy) (2.4)\n",
      "Requirement already satisfied: uri-template in ./env/lib/python3.9/site-packages (from jsonschema[format-nongpl]>=3.2.0->jupyter-events>=0.6.0->jupyter-server>=1.0->jupyter-server-proxy->jupyter-matlab-proxy) (1.3.0)\n",
      "Requirement already satisfied: webcolors>=1.11 in ./env/lib/python3.9/site-packages (from jsonschema[format-nongpl]>=3.2.0->jupyter-events>=0.6.0->jupyter-server>=1.0->jupyter-server-proxy->jupyter-matlab-proxy) (1.13)\n",
      "Requirement already satisfied: parso<0.9.0,>=0.8.0 in ./env/lib/python3.9/site-packages (from jedi>=0.16->ipython>=7.23.1->ipykernel->notebook>=6.0->jupyter-contrib-nbextensions->jupyter-matlab-proxy) (0.8.3)\n",
      "Requirement already satisfied: wcwidth in ./env/lib/python3.9/site-packages (from prompt-toolkit!=3.0.37,<3.1.0,>=3.0.30->ipython>=7.23.1->ipykernel->notebook>=6.0->jupyter-contrib-nbextensions->jupyter-matlab-proxy) (0.2.6)\n",
      "Requirement already satisfied: arrow>=0.15.0 in ./env/lib/python3.9/site-packages (from isoduration->jsonschema[format-nongpl]>=3.2.0->jupyter-events>=0.6.0->jupyter-server>=1.0->jupyter-server-proxy->jupyter-matlab-proxy) (1.2.3)\n",
      "Requirement already satisfied: executing>=1.2.0 in ./env/lib/python3.9/site-packages (from stack-data->ipython>=7.23.1->ipykernel->notebook>=6.0->jupyter-contrib-nbextensions->jupyter-matlab-proxy) (1.2.0)\n",
      "Requirement already satisfied: asttokens>=2.1.0 in ./env/lib/python3.9/site-packages (from stack-data->ipython>=7.23.1->ipykernel->notebook>=6.0->jupyter-contrib-nbextensions->jupyter-matlab-proxy) (2.2.1)\n",
      "Requirement already satisfied: pure-eval in ./env/lib/python3.9/site-packages (from stack-data->ipython>=7.23.1->ipykernel->notebook>=6.0->jupyter-contrib-nbextensions->jupyter-matlab-proxy) (0.2.2)\n",
      "Requirement already satisfied: matplotlib in ./env/lib/python3.9/site-packages (3.7.2)\n",
      "Requirement already satisfied: contourpy>=1.0.1 in ./env/lib/python3.9/site-packages (from matplotlib) (1.1.0)\n",
      "Requirement already satisfied: cycler>=0.10 in ./env/lib/python3.9/site-packages (from matplotlib) (0.11.0)\n",
      "Requirement already satisfied: fonttools>=4.22.0 in ./env/lib/python3.9/site-packages (from matplotlib) (4.40.0)\n",
      "Requirement already satisfied: kiwisolver>=1.0.1 in ./env/lib/python3.9/site-packages (from matplotlib) (1.4.4)\n",
      "Requirement already satisfied: numpy>=1.20 in ./env/lib/python3.9/site-packages (from matplotlib) (1.25.0)\n",
      "Requirement already satisfied: packaging>=20.0 in ./env/lib/python3.9/site-packages (from matplotlib) (23.1)\n",
      "Requirement already satisfied: pillow>=6.2.0 in ./env/lib/python3.9/site-packages (from matplotlib) (10.0.0)\n",
      "Requirement already satisfied: pyparsing<3.1,>=2.3.1 in ./env/lib/python3.9/site-packages (from matplotlib) (3.0.9)\n",
      "Requirement already satisfied: python-dateutil>=2.7 in ./env/lib/python3.9/site-packages (from matplotlib) (2.8.2)\n",
      "Requirement already satisfied: importlib-resources>=3.2.0 in ./env/lib/python3.9/site-packages (from matplotlib) (6.0.0)\n",
      "Requirement already satisfied: zipp>=3.1.0 in ./env/lib/python3.9/site-packages (from importlib-resources>=3.2.0->matplotlib) (3.15.0)\n",
      "Requirement already satisfied: six>=1.5 in ./env/lib/python3.9/site-packages (from python-dateutil>=2.7->matplotlib) (1.16.0)\n",
      "Requirement already satisfied: multiprocess in ./env/lib/python3.9/site-packages (0.70.14)\n",
<<<<<<< HEAD
      "Requirement already satisfied: dill>=0.3.6 in ./env/lib/python3.9/site-packages (from multiprocess) (0.3.6)\n",
      "Collecting matlabengine\n",
      "  Using cached matlabengine-9.14.3.tar.gz (18 kB)\n",
      "  Installing build dependencies ... \u001b[?25ldone\n",
      "\u001b[?25h  Getting requirements to build wheel ... \u001b[?25ldone\n",
      "\u001b[?25h  Preparing metadata (pyproject.toml) ... \u001b[?25ldone\n",
      "\u001b[?25hBuilding wheels for collected packages: matlabengine\n",
      "  Building wheel for matlabengine (pyproject.toml) ... \u001b[?25ldone\n",
      "\u001b[?25h  Created wheel for matlabengine: filename=matlabengine-9.14.3-py3-none-any.whl size=16978 sha256=f384e7b36f9a36aefdd5a321e7bf742d484bbf1d9c4c5c6efa88c88ccd2d3299\n",
      "  Stored in directory: /Users/jack_wang/Library/Caches/pip/wheels/14/a6/16/6a9615628f4306ae2f21703c36f81d934d70ffb0977642e41d\n",
      "Successfully built matlabengine\n",
      "Installing collected packages: matlabengine\n",
      "Successfully installed matlabengine-9.14.3\n"
=======
      "Requirement already satisfied: dill>=0.3.6 in ./env/lib/python3.9/site-packages (from multiprocess) (0.3.6)\n"
>>>>>>> d3355aca (get_probabilities for unbalanced distributions)
     ]
    }
   ],
   "source": [
    "import sys\n",
    "\n",
<<<<<<< HEAD
    "!{sys.executable} -m pip install --upgrade pip\n",
    "!{sys.executable} -m pip install gurobipy\n",
    "!{sys.executable} -m pip install cvxpy\n",
    "!{sys.executable} -m pip install numpy\n",
    "!{sys.executable} -m pip install jupyter-matlab-proxy\n",
    "!{sys.executable} -m pip install matplotlib\n",
    "!{sys.executable} -m pip install multiprocess\n",
    "!{sys.executable} -m pip install matlabengine"
=======
    "!'{sys.executable}' -m pip install --upgrade pip\n",
    "!'{sys.executable}' -m pip install gurobipy\n",
    "!'{sys.executable}' -m pip install cvxpy\n",
    "!'{sys.executable}' -m pip install numpy\n",
    "!'{sys.executable}' -m pip install jupyter-matlab-proxy\n",
    "!'{sys.executable}' -m pip install matplotlib\n",
    "!'{sys.executable}' -m pip install multiprocess\n",
    "# !'{sys.executable}' -m pip install matlabengine"
>>>>>>> d3355aca (get_probabilities for unbalanced distributions)
   ]
  },
  {
   "attachments": {},
   "cell_type": "markdown",
   "metadata": {},
   "source": [
    "Generic probability distribution histogram code + some helper functions here"
   ]
  },
  {
   "cell_type": "code",
<<<<<<< HEAD
   "execution_count": 4,
=======
   "execution_count": 14,
>>>>>>> d3355aca (get_probabilities for unbalanced distributions)
   "metadata": {},
   "outputs": [
    {
     "data": {
      "text/plain": [
       "(0.1562500000000003, 0.15625)"
      ]
     },
     "execution_count": 14,
     "metadata": {},
     "output_type": "execute_result"
    }
   ],
   "source": [
    "import math\n",
    "import numpy as np\n",
    "#import multiprocessing as mp\n",
    "import multiprocess as mp\n",
    "import itertools\n",
    "from collections import defaultdict\n",
    "\n",
    "def push_multinomial(n, k, occ=1):\n",
    "    return math.lgamma(n + k * occ + 1) - math.lgamma(n + 1) - occ * math.lgamma(k + 1)\n",
    "\n",
    "class DistHistogram:\n",
    "    def __init__(self, hist = defaultdict(int)):\n",
    "        self.hist = hist\n",
    "\n",
    "    # If the histogram actually represents a prob distribution\n",
    "    def check_integrity(self):\n",
    "        if not math.isclose(1.0, sum(self.hist[p] * p for p in self.hist)):\n",
    "            raise Exception(\"Bad histogram: {}\".format(str(self.hist)))\n",
    "\n",
    "    # Generate a fingerprint\n",
    "    def generate_fingerprint(self, k):\n",
    "        self.check_integrity()\n",
    "        n = sum(self.hist[p] for p in self.hist)\n",
    "        dist = np.concatenate([[p] * self.hist[p] for p in self.hist])\n",
    "        hist = np.random.multinomial(k, dist, size=1)\n",
    "        unique, counts = np.unique(hist, return_counts=True)\n",
    "        fingerprint = dict(zip(unique, counts))\n",
    "        if (zero := n - sum(fingerprint[f] for f in fingerprint)) != 0:\n",
    "            fingerprint[0] = zero\n",
    "        return fingerprint\n",
    "\n",
    "# Get true probability of obtaining a fingerprint \n",
    "# Speedup calculation with vectorization\n",
    "def get_probabilities(dists, fingerprint):\n",
    "    # Needs to have all distributions of the same ??-point structure\n",
    "    pts = {len(dist.hist) for dist in dists}\n",
    "    if len(pts) > 1:\n",
    "        raise Exception(\"All distributions need to have the same ??-point structure\")\n",
    "    k, pts = sum(fingerprint[f] * f for f in fingerprint), pts.pop()\n",
    "    log_zero_arr = lambda : np.full((1, m), -np.inf, dtype=float)\n",
    "\n",
    "    m = len(dists)\n",
    "    lps, ys = np.log(np.transpose([list(dist.hist.keys()) for dist in dists])), np.array([list(dist.hist.values()) for dist in dists])\n",
    "    coefficients = np.full((1, m), math.lgamma(k + 1))\n",
    "    for f in fingerprint:\n",
    "        coefficients -= fingerprint[f] * math.lgamma(f + 1)\n",
    "    for y in np.transpose(ys):\n",
    "        coefficients += np.vectorize(math.lgamma)(y + 1)\n",
    "    dp = defaultdict(log_zero_arr, {np.zeros(pts).tobytes(): coefficients})\n",
    "\n",
    "    # Partition lazy generator\n",
    "    def partition(size, array, value, occ):\n",
    "        ind = array.size\n",
    "        if ind == pts - 1:\n",
    "            i = size\n",
    "            new_value = value - math.lgamma(i + 1) + occ * i * lps[ind]\n",
    "            new_array = np.concatenate([array, [i]])\n",
    "            yield (new_array, new_value)\n",
    "        else:\n",
    "            for i in range(size + 1):\n",
    "                new_value = value - math.lgamma(i + 1) + occ * i * lps[ind]\n",
    "                new_array = np.concatenate([array, [i]])\n",
    "                yield from partition(size - i, new_array, new_value, occ)\n",
    "\n",
    "    for occ, frq in fingerprint.items():\n",
    "        new_dp = defaultdict(log_zero_arr)\n",
    "        for arr, val in partition(frq, np.array([]), np.full((1, m), 0.0, dtype=float), occ):\n",
    "            for prev_arr_byte, prev_val in dp.items():\n",
    "                prev_arr = np.frombuffer(prev_arr_byte)\n",
    "                idx = (arr + prev_arr).tobytes()\n",
    "                new_dp[idx] = np.logaddexp(new_dp[idx], val + prev_val)\n",
    "        dp = new_dp\n",
    "    ans = np.exp([dp[np.array(ys[i], dtype=float).tobytes()][0, i] for i in range(m)])\n",
    "    return ans\n",
    "\n",
    "def get_probabilities_no_multithread(dists, fingerprints):\n",
    "    return np.transpose([get_probabilities(dists, f) for f in fingerprints])\n",
    "\n",
    "def get_probabilities_multithread(dists, fingerprints):\n",
    "    pool = mp.Pool(processes=16)\n",
    "    return np.transpose(pool.starmap(get_probabilities, zip(itertools.repeat(dists), fingerprints)))\n",
    "\n",
    "def get_probabilities_nonuniform(dists, fingerprint):\n",
    "    f1,f2=fingerprint\n",
    "\n",
    "    j=sum(fingerprint[f] * f for f in f1)\n",
    "    k=j + sum(fingerprint[f] * f for f in f2)\n",
    "\n",
    "    jprob = np.exp(math.lgamma(k + 1) - math.lgamma(k - j + 1) - math.lgamma(j + 1) - k * math.log(2))\n",
    "\n",
    "    d1s = [d[0] for d in dists]\n",
    "    d2s = [d[1] for d in dists]\n",
    "\n",
    "    p1s = get_probabilities_multithread(d1s, f1)\n",
    "    p2s = get_probabilities_multithread(d2s, f2)\n",
    "\n",
    "    return [jprob*a*b for a,b in zip(p1s,p2s)]"
   ]
  },
  {
   "attachments": {},
   "cell_type": "markdown",
   "metadata": {},
   "source": [
    "Generic tester + semilinear tester"
   ]
  },
  {
   "cell_type": "code",
   "execution_count": 5,
   "metadata": {},
   "outputs": [],
   "source": [
    "class SemilinearTester: #this might not be entirely clean if the worst case distribution changes due to probabilism\n",
    "    def __init__(self, c):\n",
    "        self.c = c\n",
    "\n",
    "    def get_coefficient(self, f):\n",
    "        return sum([cnt * self.c[i] for i, cnt in f.items()])\n",
    "\n",
    "    def optimize(self, lo, hi, fs, prob_hypo, prob_alts):\n",
    "        def binary_search(lo, hi, pred, eps=1e-9):\n",
    "            # assuming that pred(lo) is true and pred(hi) is false\n",
    "            while lo + eps < hi:\n",
    "                mi = (lo + hi) / 2\n",
    "                if pred(mi):\n",
    "                    lo = mi\n",
    "                else:\n",
    "                    hi = mi\n",
    "            return lo, hi\n",
    "\n",
    "        def predicate(t):\n",
    "            verdict = np.array([self.get_coefficient(f) >= t for f in fs], dtype=float)\n",
    "            t1 = (prob_hypo @ verdict)[0]\n",
    "            t2 = np.max(prob_alts @ (1 - verdict))\n",
    "            return t1 > t2\n",
    "    \n",
    "        self.lo, self.hi = binary_search(lo, hi, predicate)\n",
    "        verdict_lo = np.array([self.get_coefficient(f) >= self.lo for f in fs], dtype=float)\n",
    "        t1_lo = (prob_hypo @ verdict_lo)[0]\n",
    "        t2_lo = np.max(prob_alts @ (1 - verdict_lo))\n",
    "        verdict_hi = np.array([self.get_coefficient(f) >= self.hi for f in fs], dtype=float)\n",
    "        t1_hi = (prob_hypo @ verdict_hi)[0]\n",
    "        t2_hi = np.max(prob_alts @ (1 - verdict_hi))\n",
    "        # solve t1_lo + (t1_hi - t1_lo) * self.tb = t2_lo + (t2_hi - t2_lo) * self.tb\n",
    "        self.tb = (t1_lo - t2_lo) / ((t1_lo - t1_hi) - (t2_lo - t2_hi))\n",
    "        return np.log(t1_lo + (t1_hi - t1_lo) * self.tb)\n",
    "\n",
    "    def single_verdict(self, f):\n",
    "        if (coef := self.get_coefficient(f)) < self.lo:\n",
    "            return 0\n",
    "        elif coef > self.hi:\n",
    "            return 1\n",
    "        else:\n",
    "            return self.tb # this can be changed to a bernoulli sample with probability self.tb\n",
    "\n",
    "    def multiple_verdicts(self, fs):\n",
    "        return np.array([self.single_verdict(f) for f in fs], dtype=float)\n"
   ]
  },
  {
   "attachments": {},
   "cell_type": "markdown",
   "metadata": {},
   "source": [
    "Generating all alternative two-point distributions, sampling fingerprints, and generating probabilities"
   ]
  },
  {
   "cell_type": "code",
   "execution_count": 6,
   "metadata": {},
   "outputs": [
    {
     "name": "stdout",
     "output_type": "stream",
     "text": [
      "5604\n"
     ]
    }
   ],
   "source": [
    "import copy\n",
    "\n",
    "n, k = 30, 30\n",
    "eps = 0.9\n",
    "fg_size = 20000\n",
    "\n",
    "hypo = DistHistogram({1/n: n})\n",
    "alts = []\n",
    "for q in range(1, n):\n",
    "    # x1 * q + x2 * (n - q) = 1\n",
    "    # (1 / n - x1) * q + (x2 - 1 / n) * (n - q) = eps\n",
    "    x1, x2 = (2 * q - n * eps) / (2 * n * q), (2 * n + n * eps - 2 * q) / (2 * n * (n - q))\n",
    "    if 0 < x1 <= 1 and 0 < x2 <= 1:\n",
    "        alts.append(DistHistogram({x1: q, x2: n - q}))\n",
    "\n",
    "def generate_fingerprint(n, k, mi, dct):\n",
    "    if n == 1:\n",
    "        dct[k] += 1\n",
    "        yield dict(dct)\n",
    "    else:\n",
    "        if n * (mi + 1) <= k:\n",
    "            yield from generate_fingerprint(n, k, mi + 1, copy.deepcopy(dct))\n",
    "        dct[mi] += 1\n",
    "        yield from generate_fingerprint(n - 1, k - mi, mi, dct)\n",
    "\n",
    "fingerprints = list(generate_fingerprint(n, k, 0, defaultdict(int)))\n",
    "\n",
    "# seen = set()\n",
    "# fingerprints = []\n",
    "# while len(fingerprints) < fg_size:\n",
    "#     f = hypo.generate_fingerprint(k)\n",
    "#     t = tuple(f.items())\n",
    "#     if t not in seen:\n",
    "#         seen.add(t)\n",
    "#         fingerprints.append(f)\n",
    "\n",
    "# fingerprints = [hypo.generate_fingerprint(k) for _ in range(fg_size)]\n",
    "print(len(fingerprints))\n",
    "prob_hypo = get_probabilities_multithread([hypo], fingerprints)\n",
    "prob_hypo = prob_hypo / prob_hypo.sum(axis=1)[:, np.newaxis] # normalization step\n",
    "# prob_alts = np.array([[alt.get_probability(fingerprint) for fingerprint in fingerprints] for alt in alts])\n",
    "prob_alts = get_probabilities_multithread(alts, fingerprints)\n",
    "prob_alts = prob_alts / prob_alts.sum(axis=1)[:, np.newaxis] # normalization step"
   ]
  },
  {
   "attachments": {},
   "cell_type": "markdown",
   "metadata": {},
   "source": [
    "Solving linear program"
   ]
  },
  {
   "cell_type": "code",
<<<<<<< HEAD
   "execution_count": 7,
=======
   "execution_count": 5,
>>>>>>> d3355aca (get_probabilities for unbalanced distributions)
   "metadata": {},
   "outputs": [
    {
     "name": "stdout",
     "output_type": "stream",
     "text": [
<<<<<<< HEAD
      "-2.4148196359833505\n"
=======
      "-2.4148196359833625\n"
>>>>>>> d3355aca (get_probabilities for unbalanced distributions)
     ]
    }
   ],
   "source": [
    "import cvxpy as cp\n",
    "\n",
    "x = cp.Variable(len(fingerprints))\n",
    "t = cp.Variable()\n",
    "objective = cp.Minimize(t)\n",
    "constraints = [\n",
    "    x >= 0,\n",
    "    x <= 1,\n",
    "    prob_hypo @ x <= t,\n",
    "    prob_alts @ (1 - x) <= t\n",
    "]\n",
    "prob = cp.Problem(objective, constraints)\n",
    "\n",
    "#result = prob.solve(solver=cp.GUROBI)\n",
    "result = prob.solve()\n",
    "\n",
    "print(np.log(t.value))"
   ]
  },
  {
   "cell_type": "code",
<<<<<<< HEAD
   "execution_count": 8,
   "metadata": {},
   "outputs": [
    {
     "name": "stdout",
     "output_type": "stream",
     "text": [
      "-2.414808606460074\n",
      "-0.3408809083893516 -0.34088090750117317 0.8104559027746631\n",
      "-2.3236991558735833\n",
      "37.99999999998249 38.00000000087067 0.9519955742627947\n",
      "-2.1863123322424687\n",
      "25.999999999193335 26.000000000081513 0.49771015881812813\n",
      "-1.056425060912522\n",
      "-10.000000000509601 -9.999999999621423 0.37642728234937756\n"
=======
   "execution_count": 6,
   "metadata": {},
   "outputs": [
    {
     "ename": "ModuleNotFoundError",
     "evalue": "No module named 'matlab'",
     "output_type": "error",
     "traceback": [
      "\u001b[0;31m---------------------------------------------------------------------------\u001b[0m",
      "\u001b[0;31mModuleNotFoundError\u001b[0m                       Traceback (most recent call last)",
      "Cell \u001b[0;32mIn[6], line 1\u001b[0m\n\u001b[0;32m----> 1\u001b[0m \u001b[39mimport\u001b[39;00m \u001b[39mmatlab\u001b[39;00m\u001b[39m.\u001b[39;00m\u001b[39mengine\u001b[39;00m\n\u001b[1;32m      2\u001b[0m \u001b[39mimport\u001b[39;00m \u001b[39mio\u001b[39;00m\n\u001b[1;32m      4\u001b[0m \u001b[39m# --2.783246248005155\u001b[39;00m\n\u001b[1;32m      5\u001b[0m \u001b[39m# -2.5430245416741255 deterministic tester\u001b[39;00m\n",
      "\u001b[0;31mModuleNotFoundError\u001b[0m: No module named 'matlab'"
>>>>>>> d3355aca (get_probabilities for unbalanced distributions)
     ]
    }
   ],
   "source": [
    "import matlab.engine\n",
    "import io\n",
    "\n",
    "# --2.783246248005155\n",
    "# -2.5430245416741255 deterministic tester\n",
    "\n",
    "lo, hi = -1e6, 1e6\n",
    "\n",
    "eng = matlab.engine.start_matlab()\n",
    "c_matlab = np.array(eng.get_coefs(n * 1.0, k * 1.0, eps * 1.0, stdout=io.StringIO())).flatten()\n",
    "if len(c_matlab) < k + 1:\n",
    "    c_matlab = np.pad(c_matlab, (0, k + 1 - len(c_matlab)), 'constant')\n",
    "matlab_tester = SemilinearTester(c_matlab)\n",
    "print(matlab_tester.optimize(lo, hi, fingerprints, prob_hypo, prob_alts))\n",
    "print(matlab_tester.lo, matlab_tester.hi, matlab_tester.tb)\n",
    "\n",
    "c_chi = np.array([(i - k / n) ** 2 for i in range(k + 1)])\n",
    "chi_squared_tester = SemilinearTester(c_chi)\n",
    "print(chi_squared_tester.optimize(lo, hi, fingerprints, prob_hypo, prob_alts))\n",
    "print(chi_squared_tester.lo, chi_squared_tester.hi, chi_squared_tester.tb)\n",
    "\n",
    "c_tv = np.array([abs(i - k / n) for i in range(k + 1)])\n",
    "tv_tester = SemilinearTester(c_tv)\n",
    "print(tv_tester.optimize(lo, hi, fingerprints, prob_hypo, prob_alts))\n",
    "print(tv_tester.lo, tv_tester.hi, tv_tester.tb)\n",
    "\n",
    "c_singleton = -np.array([i == 1 for i in range(k + 1)], dtype=float)\n",
    "singleton_tester = SemilinearTester(c_singleton)\n",
    "print(singleton_tester.optimize(lo, hi, fingerprints, prob_hypo, prob_alts))\n",
    "print(singleton_tester.lo, singleton_tester.hi, singleton_tester.tb)"
   ]
  },
  {
   "cell_type": "code",
   "execution_count": null,
   "metadata": {},
   "outputs": [],
   "source": [
    "print(*list(zip(x.value, fingerprints)), sep='\\n')"
   ]
  }
 ],
 "metadata": {
  "kernelspec": {
   "display_name": "Python 3 (ipykernel)",
   "language": "python",
   "name": "python3"
  },
  "language_info": {
   "codemirror_mode": {
    "name": "ipython",
    "version": 3
   },
   "file_extension": ".py",
   "mimetype": "text/x-python",
   "name": "python",
   "nbconvert_exporter": "python",
   "pygments_lexer": "ipython3",
<<<<<<< HEAD
   "version": "3.9.16"
=======
   "version": "3.9.17"
>>>>>>> d3355aca (get_probabilities for unbalanced distributions)
  }
 },
 "nbformat": 4,
 "nbformat_minor": 2
}
